{
 "cells": [
  {
   "cell_type": "markdown",
   "metadata": {},
   "source": [
    "# [프로그래머스 Lv. 2 - 피보나치 수](https://school.programmers.co.kr/learn/courses/30/lessons/12945?language=python3)"
   ]
  },
  {
   "cell_type": "markdown",
   "metadata": {},
   "source": [
    "## 배운 점\n",
    "- 개발 시도 값의 초과(오버플로우, 언더플로우) 고려 필요."
   ]
  },
  {
   "cell_type": "markdown",
   "metadata": {},
   "source": [
    "## 시도 - 1\n",
    "- 의도\n",
    "  1. 이전 값과 현재 값 2개로 반복문 계산\n",
    "\n",
    "- 결과: 실패\n",
    "  1. int값이 너무 커서 실패\n",
    "    - `ValueError: Exceeds the limit (4300) for integer string conversion; use sys.set_int_max_str_digits() to increase the limit`"
   ]
  },
  {
   "cell_type": "code",
   "execution_count": 1,
   "metadata": {},
   "outputs": [],
   "source": [
    "def solution(n):\n",
    "    num0 = 0\n",
    "    num1 = 1\n",
    "\n",
    "    for i in range(2, n + 1):\n",
    "        answer = num0 + num1\n",
    "        num0 = num1\n",
    "        num1 = answer\n",
    "        \n",
    "    return answer // 1234567 if answer // 1234567 else answer"
   ]
  },
  {
   "cell_type": "markdown",
   "metadata": {},
   "source": [
    "## 시도 - 2\n",
    "- 의도\n",
    "  1. 1234567로 나눈 나머지만 기억\n",
    "\n",
    "- 결과: 성공\n",
    "  1. 문제가 수정되었다는데 그것 때문에 문제 의도 파악 불가"
   ]
  },
  {
   "cell_type": "code",
   "execution_count": 2,
   "metadata": {},
   "outputs": [],
   "source": [
    "def solution(n):\n",
    "    num0 = 0\n",
    "    num1 = 1\n",
    "    \n",
    "    for i in range(2, n + 1):\n",
    "        num0, num1 = num1, (num0 + num1) % 1234567\n",
    "\n",
    "    return num1"
   ]
  },
  {
   "cell_type": "markdown",
   "metadata": {},
   "source": [
    "## 타인 풀이\n",
    "- 문제 개편 전 풀이로 `시도 -1`과 비슷한 것들이 많아 참고 어려움"
   ]
  }
 ],
 "metadata": {
  "kernelspec": {
   "display_name": "study",
   "language": "python",
   "name": "python3"
  },
  "language_info": {
   "codemirror_mode": {
    "name": "ipython",
    "version": 3
   },
   "file_extension": ".py",
   "mimetype": "text/x-python",
   "name": "python",
   "nbconvert_exporter": "python",
   "pygments_lexer": "ipython3",
   "version": "3.9.19"
  }
 },
 "nbformat": 4,
 "nbformat_minor": 2
}
