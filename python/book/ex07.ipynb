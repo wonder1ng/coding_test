{
 "cells": [
  {
   "cell_type": "markdown",
   "metadata": {},
   "source": [
    "# 나동빈 지음, 이것이 취업을 위한 코딩 테스트다 with 파이썬, 한빛미디어, 2020년\n",
    "\n",
    "|구분|코테 사이트|\n",
    "|-|-|\n",
    "|해외|[코드포스(Codeforces)](https://codeforces.com/)|\n",
    "||[탑코더(TopCoder)](https://www.topcoder.com/)|\n",
    "||[릿코드(LeetCode)](https://leetcode.com/)|\n",
    "||[코드셰프(CODECHEF)](https://www.codechef.com/)|\n",
    "|국내|[백준 온라인 저지(Baekjoon Online Judge)](https://www.acmicpc.net/)|\n",
    "||[코드업(COdeUP)](https://codeup.kr/)|\n",
    "||[프로그래머스(Programmers)](https://programmers.co.kr/)|\n",
    "||[SW Expert Academy](https://swexpertacademy.com/)|\n",
    "  \n",
    "<hr />\n",
    "\n",
    "|알고리즘 문제 풀이 사이트|\n",
    "|-|\n",
    "|[코드시그널](https://codesignal.com/)|\n",
    "|[코드포스](https://codeforces.com/)|\n",
    "|[정올](https://jungol.co.kr/)|"
   ]
  },
  {
   "cell_type": "markdown",
   "metadata": {},
   "source": [
    "## 07 이진 탐색\n",
    "- **Sequential Search(순차 탐색)**: 앞에서부터 데이터를 차례대로 비교하는 탐색법. $N(O)$\n",
    "- **Binary Search(이진 탐색)**: 중간점에 있는 데이터를 반복 비교하는 탐색법. $N(\\log N)$"
   ]
  },
  {
   "cell_type": "markdown",
   "metadata": {},
   "source": [
    "### 7-1 순차 탐색"
   ]
  },
  {
   "cell_type": "code",
   "execution_count": 5,
   "metadata": {},
   "outputs": [
    {
     "data": {
      "text/plain": [
       "3"
      ]
     },
     "execution_count": 5,
     "metadata": {},
     "output_type": "execute_result"
    }
   ],
   "source": [
    "def sequential_search(target, array: list):\n",
    "    for i in range(len(array)):\n",
    "        if target == array[i]:\n",
    "            return i + 1\n",
    "    return \"값 없음\"\n",
    "\n",
    "sequential_search(\"Dongbin\", [\"Hanul\", \"Jonggu\", \"Dongbin\", \"Taeil\", \"Sangwook\"])"
   ]
  },
  {
   "cell_type": "markdown",
   "metadata": {},
   "source": [
    "### 7-2 이진 탐색"
   ]
  },
  {
   "cell_type": "code",
   "execution_count": 9,
   "metadata": {},
   "outputs": [
    {
     "name": "stdout",
     "output_type": "stream",
     "text": [
      "3\n",
      "값 없음\n"
     ]
    }
   ],
   "source": [
    "def binary_search(array: list, target, start: int, end: int):\n",
    "    if start > end:\n",
    "        return \"값 없음\"\n",
    "    \n",
    "    mid = (start + end) // 2\n",
    "\n",
    "    if array[mid] == target:\n",
    "        return mid\n",
    "    elif array[mid] > target:\n",
    "        return binary_search(array, target, start, mid - 1)\n",
    "    else:\n",
    "        return binary_search(array, target, mid + 1, end)\n",
    "\n",
    "arr = [1, 3, 5, 7, 9, 11, 13, 15, 17 ,19]\n",
    "print(binary_search(arr, 7, 0, len(arr) - 1),\n",
    "      binary_search(arr, 4, 0, len(arr) - 1),\n",
    "      sep=\"\\n\")"
   ]
  },
  {
   "cell_type": "markdown",
   "metadata": {},
   "source": [
    "### 7-3 부품 찾기\n",
    "목표: 부품의 존재 여부 yes / no 출력"
   ]
  },
  {
   "cell_type": "code",
   "execution_count": 14,
   "metadata": {},
   "outputs": [
    {
     "name": "stdout",
     "output_type": "stream",
     "text": [
      "no yes yes \n"
     ]
    }
   ],
   "source": [
    "def solution(parts: list, needs: list) -> list:\n",
    "    for elem in needs:\n",
    "        print(\"yes\" if elem in parts else \"no\", end=\" \")\n",
    "    print()\n",
    "\n",
    "solution([8, 3, 7, 9, 2], [5, 7, 9])"
   ]
  },
  {
   "cell_type": "markdown",
   "metadata": {},
   "source": [
    "### 7-4 떡볶이 떡 만들기\n",
    "\n",
    "목표: 손님이 요청한 길이 이상의 떡을 얻기 위해 절단기에 설정할 길이의 최댓값 구하기\n",
    "\n",
    "조건: 떡의 길이는 일정하지 않고 절단기 범위에 따라 동일하게 절단"
   ]
  },
  {
   "cell_type": "code",
   "execution_count": 19,
   "metadata": {},
   "outputs": [
    {
     "data": {
      "text/plain": [
       "15"
      ]
     },
     "execution_count": 19,
     "metadata": {},
     "output_type": "execute_result"
    }
   ],
   "source": [
    "def solution(m: int, arr: list) -> int:\n",
    "    for w in range(max(arr), 0, -1):\n",
    "        res = sum([max(0, elem - w) for elem in arr])\n",
    "        if res >= m:\n",
    "            return w\n",
    "    return \"값 없음\"\n",
    "\n",
    "solution(6, [19, 15, 10, 17])"
   ]
  }
 ],
 "metadata": {
  "kernelspec": {
   "display_name": "study",
   "language": "python",
   "name": "python3"
  },
  "language_info": {
   "codemirror_mode": {
    "name": "ipython",
    "version": 3
   },
   "file_extension": ".py",
   "mimetype": "text/x-python",
   "name": "python",
   "nbconvert_exporter": "python",
   "pygments_lexer": "ipython3",
   "version": "3.9.19"
  }
 },
 "nbformat": 4,
 "nbformat_minor": 2
}
