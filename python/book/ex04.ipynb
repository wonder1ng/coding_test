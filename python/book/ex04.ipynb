{
 "cells": [
  {
   "cell_type": "markdown",
   "metadata": {},
   "source": [
    "# 나동빈 지음, 이것이 취업을 위한 코딩 테스트다 with 파이썬, 한빛미디어, 2020년\n",
    "\n",
    "|구분|코테 사이트|\n",
    "|-|-|\n",
    "|해외|[코드포스(Codeforces)](https://codeforces.com/)|\n",
    "||[탑코더(TopCoder)](https://www.topcoder.com/)|\n",
    "||[릿코드(LeetCode)](https://leetcode.com/)|\n",
    "||[코드셰프(CODECHEF)](https://www.codechef.com/)|\n",
    "|국내|[백준 온라인 저지(Baekjoon Online Judge)](https://www.acmicpc.net/)|\n",
    "||[코드업(COdeUP)](https://codeup.kr/)|\n",
    "||[프로그래머스(Programmers)](https://programmers.co.kr/)|\n",
    "||[SW Expert Academy](https://swexpertacademy.com/)|\n",
    "  \n",
    "<hr />\n",
    "\n",
    "|알고리즘 문제 풀이 사이트|\n",
    "|-|\n",
    "|[코드시그널](https://codesignal.com/)|\n",
    "|[코드포스](https://codeforces.com/)|\n",
    "|[정올](https://jungol.co.kr/)|"
   ]
  },
  {
   "cell_type": "markdown",
   "metadata": {},
   "source": [
    "## 04 구현\n",
    "- **Implementation(구현)**: 생각한 알고리즘을 소스코드로 바꾸는 과정"
   ]
  },
  {
   "cell_type": "markdown",
   "metadata": {},
   "source": [
    "### 4-1 상하좌우\n",
    "\n",
    "목표: 목적지까지 LRUD 입략에 따라 이동 시 최종 목적지\n",
    "\n",
    "조건: N*N 사각형 밖으로 이동 불가, 좌표 시작은 (1, 1)"
   ]
  },
  {
   "cell_type": "code",
   "execution_count": 1,
   "metadata": {},
   "outputs": [
    {
     "data": {
      "text/plain": [
       "'3 4'"
      ]
     },
     "execution_count": 1,
     "metadata": {},
     "output_type": "execute_result"
    }
   ],
   "source": [
    "def solution(n: int, moves: str) -> str:\n",
    "    x = y = 1\n",
    "    for move in moves.split():\n",
    "        if move == \"L\": x -= 1\n",
    "        elif  move == \"R\": x += 1\n",
    "        elif  move == \"U\": y -= 1\n",
    "        else: y += 1\n",
    "        \n",
    "        if x < 1: x = 1\n",
    "        elif x > n: x = n\n",
    "        if y < 1: y = 1\n",
    "        elif y > n: y = n\n",
    "\n",
    "    return f\"{y} {x}\"\n",
    "\n",
    "solution(5, \"R R R U D D\")"
   ]
  },
  {
   "cell_type": "markdown",
   "metadata": {},
   "source": [
    "### 4-2 시각\n",
    "\n",
    "목표: 00시 00분 00초부터 n시 59분 59초까지의 시각 중 3이 포함된 모든 개수"
   ]
  },
  {
   "cell_type": "code",
   "execution_count": 2,
   "metadata": {},
   "outputs": [
    {
     "data": {
      "text/plain": [
       "11475"
      ]
     },
     "execution_count": 2,
     "metadata": {},
     "output_type": "execute_result"
    }
   ],
   "source": [
    "def solution(n: int) -> int:\n",
    "    loop = (60 * 10) + (60 * 5) + (45 * 10) + (45 * 5)\n",
    "    answer = 0\n",
    "    for h in range(n + 1):\n",
    "        if h in (3, 13): answer += 3600\n",
    "        else: answer += loop\n",
    "\n",
    "    return answer\n",
    "\n",
    "solution(5)"
   ]
  },
  {
   "cell_type": "markdown",
   "metadata": {},
   "source": [
    "### 4-3 왕실의 나이트\n",
    "\n",
    "목표: 임의의 위치에 있는 나이트가 움직일 수 있는 경우의 수\n",
    "\n",
    "조건: a~h, 1~8로 이루어진 8*8의 체스판"
   ]
  },
  {
   "cell_type": "code",
   "execution_count": 3,
   "metadata": {},
   "outputs": [
    {
     "data": {
      "text/plain": [
       "2"
      ]
     },
     "execution_count": 3,
     "metadata": {},
     "output_type": "execute_result"
    }
   ],
   "source": [
    "def solution(location: str) -> int:\n",
    "    answer = 8\n",
    "    moves = []\n",
    "    [moves.extend([[x, y], [y, x]]) for x in [2, -2] for y in [1, -1]]\n",
    "    x = {k: v for k, v in zip(list(\"abcdefgh\"), range(1, 9))}[location[0]]\n",
    "    y = int(location[1])\n",
    "    for m1, m2 in moves:\n",
    "        tmpX = x + m1\n",
    "        tmpY = y + m2\n",
    "        if (min(tmpX, tmpY) < 1) | (max(tmpX, tmpY) > 8):\n",
    "            answer -= 1\n",
    "\n",
    "    return answer\n",
    "\n",
    "solution(\"a1\")"
   ]
  },
  {
   "cell_type": "markdown",
   "metadata": {},
   "source": [
    "### 4-4 게임 개발\n",
    "\n",
    "목표: 캐릭터가 방문한 칸 수를 출력\n",
    "  1. 현재 위치에서 현재 방향 기준으로 반시계 방향부터 차례로 갈 곳 정함\n",
    "  2. 반시계 방향을 간 적 없다면 그쪽으로 1칸 이동 후 1단계, 간 적 있거나 바다면 다시 1단계\n",
    "  3. 4방향 모두 가본 칸이거나 바다면 바라보는 방향 유지한 채로 뒤로 1칸 이동, 뒤로 갈 수 없는 경우 움직임 멈춤\n",
    "\n",
    "조건: 바다는 갈 수 없음, {0: \"북\", 1: \"동\", 2: \"남\", 3: \"서\"}, {0: \"육지\", 1: \"바다\"}, 지도 크기는 n * m"
   ]
  },
  {
   "cell_type": "code",
   "execution_count": 4,
   "metadata": {},
   "outputs": [
    {
     "data": {
      "text/plain": [
       "3"
      ]
     },
     "execution_count": 4,
     "metadata": {},
     "output_type": "execute_result"
    }
   ],
   "source": [
    "def solution(n: int, m: int, location: list, map: list) -> int:\n",
    "    diretion = [[-1, 0], [0, 1] , [1, 0], [0, -1]]\n",
    "    x, y, idx = location\n",
    "    map[x][y] = 2\n",
    "    moves = 1\n",
    "\n",
    "    while True:\n",
    "        for _ in range(4):\n",
    "            idx = (idx - 3) % 4\n",
    "            tmpX, tmpY =  x + diretion[idx][0],  y + diretion[idx][1]\n",
    "            if(min(tmpX, tmpY) < 0) | tmpX > n | tmpY > n:\n",
    "                continue\n",
    "            if (map[tmpX][tmpY] == 0):\n",
    "                x = tmpX\n",
    "                y = tmpY\n",
    "                map[x][y] = 2\n",
    "                moves += 1\n",
    "                break\n",
    "        else:\n",
    "            backIdx = (idx - 2) % 4\n",
    "            x += diretion[backIdx][0]\n",
    "            y += diretion[backIdx][1]\n",
    "            if(min(x, y) < 0) | x > n | y > n: break\n",
    "            if map[x][y] == 1: break\n",
    "\n",
    "    return moves\n",
    "\n",
    "solution(4, 4, [1, 1, 0], [[1, 1, 1, 1], [1, 0, 0, 1], [1, 1, 0, 1], [1, 1, 1, 1]])"
   ]
  }
 ],
 "metadata": {
  "kernelspec": {
   "display_name": "study",
   "language": "python",
   "name": "python3"
  },
  "language_info": {
   "codemirror_mode": {
    "name": "ipython",
    "version": 3
   },
   "file_extension": ".py",
   "mimetype": "text/x-python",
   "name": "python",
   "nbconvert_exporter": "python",
   "pygments_lexer": "ipython3",
   "version": "3.9.19"
  }
 },
 "nbformat": 4,
 "nbformat_minor": 2
}
