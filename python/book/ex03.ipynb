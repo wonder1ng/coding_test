{
 "cells": [
  {
   "cell_type": "markdown",
   "metadata": {},
   "source": [
    "# 나동빈 지음, 이것이 취업을 위한 코딩 테스트다 with 파이썬, 한빛미디어, 2020년\n",
    "\n",
    "|구분|코테 사이트|\n",
    "|-|-|\n",
    "|해외|[코드포스(Codeforces)](https://codeforces.com/)|\n",
    "||[탑코더(TopCoder)](https://www.topcoder.com/)|\n",
    "||[릿코드(LeetCode)](https://leetcode.com/)|\n",
    "||[코드셰프(CODECHEF)](https://www.codechef.com/)|\n",
    "|국내|[백준 온라인 저지(Baekjoon Online Judge)](https://www.acmicpc.net/)|\n",
    "||[코드업(COdeUP)](https://codeup.kr/)|\n",
    "||[프로그래머스(Programmers)](https://programmers.co.kr/)|\n",
    "||[SW Expert Academy](https://swexpertacademy.com/)|"
   ]
  },
  {
   "cell_type": "markdown",
   "metadata": {},
   "source": [
    "## 03 그리디\n",
    "- **Greedy(탐욕법)**: 현재 가장 좋은 것만 고르는 법"
   ]
  },
  {
   "cell_type": "markdown",
   "metadata": {},
   "source": [
    "### 3-1 거스름돈\n",
    "\n",
    "손님에게 거슬러 줘야할 돈이 N원일 때 거슬러줘야 할 동전 최소 개수\n",
    "\n",
    "동전: 500원, 100원, 50원, 10원"
   ]
  },
  {
   "cell_type": "code",
   "execution_count": 5,
   "metadata": {},
   "outputs": [
    {
     "data": {
      "text/plain": [
       "6"
      ]
     },
     "execution_count": 5,
     "metadata": {},
     "output_type": "execute_result"
    }
   ],
   "source": [
    "def solution(N: int) -> int:\n",
    "    coins, N = N // 500, N % 500\n",
    "    for coin in [100, 50, 10]:\n",
    "        coins += N // coin\n",
    "        N %= coin\n",
    "    return coins\n",
    "solution(1260)"
   ]
  },
  {
   "cell_type": "markdown",
   "metadata": {},
   "source": [
    "### 3-2 큰 수의 법칙\n",
    "\n",
    "주어진 수(인덱스)를 K번까지 연속해서 중복 사용하여 총 M번 더하여 가장 큰 수를 만드는 법칙"
   ]
  },
  {
   "cell_type": "code",
   "execution_count": 6,
   "metadata": {},
   "outputs": [
    {
     "name": "stdout",
     "output_type": "stream",
     "text": [
      "46 28\n"
     ]
    }
   ],
   "source": [
    "def solution(N: int, M: int, K: int, arr: list) -> int:\n",
    "    min, max = sorted(arr)[-2:]\n",
    "    K += 1\n",
    "    minN = M // K\n",
    "    return (M - minN) * max + minN * min\n",
    "    # [min if num % K == 0 else max for num in range(1, M + 1)]\n",
    "\n",
    "print(\n",
    "    solution(5, 8, 3, [2, 4, 5, 4, 6]),\n",
    "    solution(5, 7, 2, [3, 4, 3, 4, 3]),\n",
    ")"
   ]
  },
  {
   "cell_type": "markdown",
   "metadata": {},
   "source": [
    "### 3-3 숫자 카드 게임\n",
    "목표: 가장 높은 수를 뽑아야함\n",
    "\n",
    "조건: N*M 행렬의 카드 중 선택 행에서 가장 낮은 값을 가져와야함 "
   ]
  },
  {
   "cell_type": "code",
   "execution_count": 7,
   "metadata": {},
   "outputs": [
    {
     "name": "stdout",
     "output_type": "stream",
     "text": [
      "2 3\n"
     ]
    }
   ],
   "source": [
    "def solution(n: int, m: int, arr: list) -> int:\n",
    "    return max([min(nums) for nums in arr])\n",
    "print(\n",
    "    solution(3, 3, [[3, 1, 2], [4, 1, 4], [2, 2, 2]]),\n",
    "    solution(2, 4, [[7, 3, 1, 8], [3, 3, 3, 4]])\n",
    ")"
   ]
  },
  {
   "cell_type": "markdown",
   "metadata": {},
   "source": [
    "### 3-4 1이 될 때까지\n",
    "목표: N을 1로 만들고 결과까지의 조건 최소 실행 횟수 구함\n",
    "조건:\n",
    "  1. N - 1\n",
    "  2. 나머지가 0일 경우 N / K"
   ]
  },
  {
   "cell_type": "code",
   "execution_count": 8,
   "metadata": {},
   "outputs": [
    {
     "name": "stdout",
     "output_type": "stream",
     "text": [
      "2 6\n"
     ]
    }
   ],
   "source": [
    "def solution(n: int, k: int) -> int:\n",
    "    res = 0\n",
    "    while n != 1:\n",
    "        if (n % k): n -= 1\n",
    "        else: n //= k\n",
    "        res += 1\n",
    "    return res\n",
    "print(\n",
    "    solution(25, 5),\n",
    "    solution(25, 3)\n",
    ")"
   ]
  }
 ],
 "metadata": {
  "kernelspec": {
   "display_name": "study",
   "language": "python",
   "name": "python3"
  },
  "language_info": {
   "codemirror_mode": {
    "name": "ipython",
    "version": 3
   },
   "file_extension": ".py",
   "mimetype": "text/x-python",
   "name": "python",
   "nbconvert_exporter": "python",
   "pygments_lexer": "ipython3",
   "version": "3.9.19"
  }
 },
 "nbformat": 4,
 "nbformat_minor": 2
}
