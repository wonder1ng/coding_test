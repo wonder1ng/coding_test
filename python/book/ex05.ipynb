{
 "cells": [
  {
   "cell_type": "markdown",
   "metadata": {},
   "source": [
    "# 나동빈 지음, 이것이 취업을 위한 코딩 테스트다 with 파이썬, 한빛미디어, 2020년\n",
    "\n",
    "|구분|코테 사이트|\n",
    "|-|-|\n",
    "|해외|[코드포스(Codeforces)](https://codeforces.com/)|\n",
    "||[탑코더(TopCoder)](https://www.topcoder.com/)|\n",
    "||[릿코드(LeetCode)](https://leetcode.com/)|\n",
    "||[코드셰프(CODECHEF)](https://www.codechef.com/)|\n",
    "|국내|[백준 온라인 저지(Baekjoon Online Judge)](https://www.acmicpc.net/)|\n",
    "||[코드업(COdeUP)](https://codeup.kr/)|\n",
    "||[프로그래머스(Programmers)](https://programmers.co.kr/)|\n",
    "||[SW Expert Academy](https://swexpertacademy.com/)|\n",
    "  \n",
    "<hr />\n",
    "\n",
    "|알고리즘 문제 풀이 사이트|\n",
    "|-|\n",
    "|[코드시그널](https://codesignal.com/)|\n",
    "|[코드포스](https://codeforces.com/)|\n",
    "|[정올](https://jungol.co.kr/)|"
   ]
  },
  {
   "cell_type": "markdown",
   "metadata": {},
   "source": [
    "## 05 DFS / BFS\n",
    "- **`data structure(자료 구조)`**: 데이터를 표현, 관리, 처리하기 위한 구조\n",
    "  - **stack(스택)**: FILO(First In Last Out) 구조\n",
    "  - **queue(큐)**: FIFO(First in First Out) 구조\n",
    "  - **deque(디크, 덱, 디큐)**: 양쪽(앞, 뒤)에서 삽입 삭제 가능한 구조\n",
    "  - **Graph(그래프)**: 객체인 node(노드)와 연결인 edge(간선)으로 구성된 자료구조\n",
    "- **`search(탐색)`**: 많은 양의 데이터 중에서 원하는 데이터를 찾는 과정\n",
    "  - **DFS(Depth FIrst Search: 깊이 우선 탐색)**: 그래프에서 깊은 부분을 우선 탐색하는 알고리즘\n",
    "  - **BFS(Breadth FIrst Search: 너비 우선 탐색)**: 가까운 노드부터 탐색하는 알고리즘\n",
    "- **`Recursive Function(재귀 함수)`**: 스스로를 다시 호출하는 함수"
   ]
  },
  {
   "cell_type": "markdown",
   "metadata": {},
   "source": [
    "### 5-1 DFS\n",
    "\n",
    "목표: DFS 구현"
   ]
  },
  {
   "cell_type": "code",
   "execution_count": 1,
   "metadata": {},
   "outputs": [],
   "source": [
    "def dfs(graph: list, current_node: int, visited: list = None) -> None:\n",
    "    \"\"\"\n",
    "    graph: for searching graph\n",
    "    current_node: current node location number\n",
    "    visited: visited record list(shpae equals graph)\n",
    "    \"\"\"\n",
    "\n",
    "    if visited is None:\n",
    "        visited = [False] * len(graph)\n",
    "    \n",
    "    # 현재 노드 방문 처리\n",
    "    visited[current_node] = True\n",
    "    print(current_node, end=\" \")\n",
    "\n",
    "    # 인접 노드 방문\n",
    "    for adjacent_node in graph[current_node]:\n",
    "        if not visited[adjacent_node]:\n",
    "            dfs(graph, adjacent_node, visited)"
   ]
  },
  {
   "cell_type": "code",
   "execution_count": 2,
   "metadata": {},
   "outputs": [
    {
     "name": "stdout",
     "output_type": "stream",
     "text": [
      "1 2 7 6 8 3 4 5 "
     ]
    }
   ],
   "source": [
    "graph = [\n",
    "    [],\n",
    "    [2, 3, 8],\n",
    "    [1, 7],\n",
    "    [1, 4, 5],\n",
    "    [3, 5],\n",
    "    [3, 4],\n",
    "    [7],\n",
    "    [2, 6, 8],\n",
    "    [1, 7]\n",
    "]\n",
    "\n",
    "dfs(graph, 1)"
   ]
  },
  {
   "cell_type": "markdown",
   "metadata": {},
   "source": [
    "### 5-2 BFS\n",
    "\n",
    "목표: BFS 구현"
   ]
  },
  {
   "cell_type": "code",
   "execution_count": 3,
   "metadata": {},
   "outputs": [],
   "source": [
    "from collections import deque\n",
    "\n",
    "def bfs(graph: list, start_node: int) -> None:\n",
    "    \"\"\"\n",
    "    graph: for searching graph\n",
    "    start_node: start node location number\n",
    "    visited: visited record list(shpae equals graph)\n",
    "    \"\"\"\n",
    "\n",
    "    visited = [False] * len(graph)\n",
    "\n",
    "    # 큐를 간단히 구현하기 위해 deque 사용\n",
    "    queue = deque([start_node])\n",
    "    \n",
    "    # 현재 노드 방문 처리\n",
    "    visited[start_node] = True\n",
    "    while queue:\n",
    "        # 큐에 있는 노드 추출\n",
    "        current_node = queue.popleft()\n",
    "        print(current_node, end=\" \")\n",
    "        for adjacent_node in graph[current_node]:\n",
    "            # 현재 노드의 인접 노드 방문 여부 확인 및 큐에 추가\n",
    "            if not visited[adjacent_node]:\n",
    "                queue.append(adjacent_node)\n",
    "                visited[adjacent_node] = True"
   ]
  },
  {
   "cell_type": "code",
   "execution_count": 4,
   "metadata": {},
   "outputs": [
    {
     "name": "stdout",
     "output_type": "stream",
     "text": [
      "1 2 3 8 7 4 5 6 "
     ]
    }
   ],
   "source": [
    "graph = [\n",
    "    [],\n",
    "    [2, 3, 8],\n",
    "    [1, 7],\n",
    "    [1, 4, 5],\n",
    "    [3, 5],\n",
    "    [3, 4],\n",
    "    [7],\n",
    "    [2, 6, 8],\n",
    "    [1, 7]\n",
    "]\n",
    "\n",
    "bfs(graph, 1)"
   ]
  },
  {
   "cell_type": "markdown",
   "metadata": {},
   "source": [
    "### 5-3 음료수 얼려 먹기\n",
    "\n",
    "목표: n*m 크기의 얼음틀의 모양이 주어졌을 때 생성되는 총 아이스크림 개수(이어진 건 1개로 봄)\n",
    "\n",
    "조건: 0은 구멍이 뚫려 있는 부분, 1은 칸막이 부분"
   ]
  },
  {
   "cell_type": "code",
   "execution_count": 5,
   "metadata": {},
   "outputs": [
    {
     "name": "stdout",
     "output_type": "stream",
     "text": [
      "3\n",
      "8\n"
     ]
    }
   ],
   "source": [
    "def dfs(n: int, m: int, ice_molds: list, x:int , y: int) -> list:\n",
    "    if ice_molds[x][y]: return ice_molds\n",
    "    else: ice_molds[x][y] = 1\n",
    "    if x - 1 != -1:\n",
    "        if ice_molds[x - 1][y] == 0: ice_molds = dfs(n, m, ice_molds, x - 1, y)\n",
    "    if x + 1 != n:\n",
    "        if ice_molds[x + 1][y] == 0: ice_molds = dfs(n, m, ice_molds, x + 1, y)\n",
    "    if y - 1 != -1:\n",
    "        if ice_molds[x][y - 1] == 0: ice_molds = dfs(n, m, ice_molds, x, y - 1)\n",
    "    if y + 1 != m:\n",
    "        if ice_molds[x][y + 1] == 0: ice_molds = dfs(n, m, ice_molds, x, y + 1)\n",
    "    return ice_molds\n",
    "\n",
    "def solution(n: int, m: int, ice_molds) -> int:\n",
    "    ice_molds = [list(map(int, line)) for line in ice_molds.split(\"\\n\")]\n",
    "    ice = 0\n",
    "\n",
    "    for x in range(n):\n",
    "        for y in range(m):\n",
    "            if ice_molds[x][y]:\n",
    "                continue\n",
    "            else:\n",
    "                ice += 1\n",
    "                ice_molds = dfs(n, m, ice_molds, x, y)\n",
    "\n",
    "    return ice\n",
    "\n",
    "ice_molds = \"00110\\n00011\\n11111\\n00000\"\n",
    "print(solution(4, 5, ice_molds))\n",
    "ice_molds = \"00000111100000\\n11111101111110\\n11011101101110\\n11011101100000\\n11011111111111\\n11011111111100\\n11000000011111\\n01111111111111\\n00000000011111\\n01111111111000\\n00011111111000\\n00000001111000\\n11111111110011\\n11100011111111\\n11100011111111\"\n",
    "print(solution(15, 14, ice_molds))"
   ]
  },
  {
   "cell_type": "code",
   "execution_count": 6,
   "metadata": {},
   "outputs": [
    {
     "name": "stdout",
     "output_type": "stream",
     "text": [
      "3\n",
      "8\n"
     ]
    }
   ],
   "source": [
    "# ChatGPT가 개선해준 코드: 일단 좌표를 넣고 해당 값이 0으로 존재해야 함수 및 반복문 실행\n",
    "\n",
    "def dfs(n: int, m: int, ice_molds: list, x: int, y: int) -> None:\n",
    "    # DFS 탐색을 위한 스택 사용 (재귀 깊이를 줄이기 위한 방법)\n",
    "    stack = [(x, y)]\n",
    "    while stack:\n",
    "        cx, cy = stack.pop()\n",
    "        # 경계 체크 및 방문 여부 확인\n",
    "        if cx < 0 or cx >= n or cy < 0 or cy >= m or ice_molds[cx][cy] == 1:\n",
    "            continue\n",
    "        \n",
    "        # 현재 위치 방문 처리\n",
    "        ice_molds[cx][cy] = 1\n",
    "        \n",
    "        # 상, 하, 좌, 우 4방향으로 스택에 추가\n",
    "        stack.append((cx - 1, cy))  # 위\n",
    "        stack.append((cx + 1, cy))  # 아래\n",
    "        stack.append((cx, cy - 1))  # 왼쪽\n",
    "        stack.append((cx, cy + 1))  # 오른쪽\n",
    "\n",
    "def solution(n: int, m: int, ice_molds: str) -> int:\n",
    "    # 입력을 2D 리스트로 변환\n",
    "    ice_molds = [list(map(int, line)) for line in ice_molds.split(\"\\n\")]\n",
    "    \n",
    "    ice = 0\n",
    "    \n",
    "    # 모든 칸을 순차적으로 확인\n",
    "    for x in range(n):\n",
    "        for y in range(m):\n",
    "            # 방문하지 않은 칸을 발견하면 새로운 얼음 덩어리 발견\n",
    "            if ice_molds[x][y] == 0:\n",
    "                ice += 1\n",
    "                dfs(n, m, ice_molds, x, y)\n",
    "    \n",
    "    return ice\n",
    "\n",
    "# 예시 입력\n",
    "ice_molds = \"00110\\n00011\\n11111\\n00000\"\n",
    "print(solution(4, 5, ice_molds))\n",
    "\n",
    "ice_molds = \"00000111100000\\n11111101111110\\n11011101101110\\n11011101100000\\n11011111111111\\n11011111111100\\n11000000011111\\n01111111111111\\n00000000011111\\n01111111111000\\n00011111111000\\n00000001111000\\n11111111110011\\n11100011111111\\n11100011111111\"\n",
    "print(solution(15, 14, ice_molds))\n"
   ]
  },
  {
   "cell_type": "markdown",
   "metadata": {},
   "source": [
    "### 5-4 미로 탈출\n",
    "\n",
    "목표: n*m 크기의 미로에서 괴물을 피해 탈출하기 위한 최소 이동 칸의 개수\n",
    "\n",
    "조건: 0은 괴물 칸, 1은 이동 가능 칸, 시작 칸과 마지막 칸도 이동 칸에 포함, 시작 칸은 [1, 1] 출구 칸은 [n, m]"
   ]
  },
  {
   "cell_type": "code",
   "execution_count": 7,
   "metadata": {},
   "outputs": [
    {
     "data": {
      "text/plain": [
       "10"
      ]
     },
     "execution_count": 7,
     "metadata": {},
     "output_type": "execute_result"
    }
   ],
   "source": [
    "from collections import deque\n",
    "\n",
    "def solution(n: int, m: int, maze: str) -> int:\n",
    "    maze = [list(map(int, line)) for line in maze.split(\"\\n\")]\n",
    "    queue = deque([[0, 0]])\n",
    "    \n",
    "    while queue:\n",
    "        x, y =  queue.popleft()\n",
    "        for mx, my in [[x - 1, y], [x + 1, y], [x, y - 1], [x, y + 1]]:\n",
    "            if min(mx, my) < 0: continue\n",
    "            elif mx == n: continue\n",
    "            elif my == m: continue\n",
    "            elif maze[mx][my] == 1:\n",
    "                maze[mx][my] += maze[x][y]\n",
    "                queue.append([mx, my])\n",
    "            if mx == n -1 and my == m -1:\n",
    "                return maze[mx][my]\n",
    "    \n",
    "    return -1\n",
    "\n",
    "maze = \"101010\\n111111\\n000001\\n111111\\n111111\"\n",
    "solution(5, 6, maze)"
   ]
  }
 ],
 "metadata": {
  "kernelspec": {
   "display_name": "study",
   "language": "python",
   "name": "python3"
  },
  "language_info": {
   "codemirror_mode": {
    "name": "ipython",
    "version": 3
   },
   "file_extension": ".py",
   "mimetype": "text/x-python",
   "name": "python",
   "nbconvert_exporter": "python",
   "pygments_lexer": "ipython3",
   "version": "3.9.19"
  }
 },
 "nbformat": 4,
 "nbformat_minor": 2
}
