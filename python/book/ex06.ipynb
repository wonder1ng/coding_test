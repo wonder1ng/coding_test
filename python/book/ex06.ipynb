{
 "cells": [
  {
   "cell_type": "markdown",
   "metadata": {},
   "source": [
    "# 나동빈 지음, 이것이 취업을 위한 코딩 테스트다 with 파이썬, 한빛미디어, 2020년\n",
    "\n",
    "|구분|코테 사이트|\n",
    "|-|-|\n",
    "|해외|[코드포스(Codeforces)](https://codeforces.com/)|\n",
    "||[탑코더(TopCoder)](https://www.topcoder.com/)|\n",
    "||[릿코드(LeetCode)](https://leetcode.com/)|\n",
    "||[코드셰프(CODECHEF)](https://www.codechef.com/)|\n",
    "|국내|[백준 온라인 저지(Baekjoon Online Judge)](https://www.acmicpc.net/)|\n",
    "||[코드업(COdeUP)](https://codeup.kr/)|\n",
    "||[프로그래머스(Programmers)](https://programmers.co.kr/)|\n",
    "||[SW Expert Academy](https://swexpertacademy.com/)|\n",
    "  \n",
    "<hr />\n",
    "\n",
    "|알고리즘 문제 풀이 사이트|\n",
    "|-|\n",
    "|[코드시그널](https://codesignal.com/)|\n",
    "|[코드포스](https://codeforces.com/)|\n",
    "|[정올](https://jungol.co.kr/)|"
   ]
  },
  {
   "cell_type": "markdown",
   "metadata": {},
   "source": [
    "## 06 정렬\n",
    "- **`sort(정렬)`**: 데이터를 특정 기준에 따라 순서대로 나열하는 것\n",
    "  - **바교 기반 정렬**\n",
    "    - **selection sort(선택 정렬)**: 정렬 순서에 맞는 데이터를 찾아 위치시키는 정렬. $O(N^2)$\n",
    "    - **insertion sort(삽입 정렬)**: 데이터를 적절한(정렬된) 위치에 삽입하는 정렬. $O(N^2)$ ~ $O(N)$\n",
    "    - **quick sort(퀵 정렬)**: 선택 값 기준으로 좌, 우로 구분 반복하는 정렬. $O(N^2)$ ~ $O(N \\log N)$  \n",
    "  - **Count Sort(계수 정렬)**: 최대값 길이의 배열을 만들어 각 값의 개수를 기재하여 이를 출력하는 정렬. $O(N + K)$"
   ]
  },
  {
   "cell_type": "markdown",
   "metadata": {},
   "source": [
    "### 6-1 선택 정렬"
   ]
  },
  {
   "cell_type": "code",
   "execution_count": 1,
   "metadata": {},
   "outputs": [
    {
     "data": {
      "text/plain": [
       "[0, 1, 2, 3, 4, 5, 6, 7, 8, 9]"
      ]
     },
     "execution_count": 1,
     "metadata": {},
     "output_type": "execute_result"
    }
   ],
   "source": [
    "def selection_sort(arr: list) -> list:\n",
    "    for i in range(len(arr) - 1):\n",
    "        min_index = i\n",
    "        for j in range(i + 1, len(arr)):\n",
    "            if arr[min_index] > arr[j]:\n",
    "                min_index = j\n",
    "        arr[i], arr[min_index] = arr[min_index], arr[i]\n",
    "    \n",
    "    return arr\n",
    "\n",
    "selection_sort([7, 5, 9, 0, 3, 1, 6, 2, 4, 8])"
   ]
  },
  {
   "cell_type": "markdown",
   "metadata": {},
   "source": [
    "### 6-2 삽입 정렬"
   ]
  },
  {
   "cell_type": "code",
   "execution_count": 2,
   "metadata": {},
   "outputs": [
    {
     "data": {
      "text/plain": [
       "[0, 1, 2, 3, 4, 5, 6, 7, 8, 9]"
      ]
     },
     "execution_count": 2,
     "metadata": {},
     "output_type": "execute_result"
    }
   ],
   "source": [
    "def insertion_sort(arr: list) -> list:\n",
    "    for i in range(len(arr)):\n",
    "        for j in range(i, 0, -1):\n",
    "            if arr[j] < arr[j - 1]:\n",
    "                arr[j], arr[j - 1] = arr[j - 1], arr[j]\n",
    "            else:\n",
    "                break\n",
    "    \n",
    "    return arr\n",
    "\n",
    "insertion_sort([7, 5, 9, 0, 3, 1, 6, 2, 4, 8])"
   ]
  },
  {
   "cell_type": "markdown",
   "metadata": {},
   "source": [
    "### 6-3 퀵 정렬"
   ]
  },
  {
   "cell_type": "code",
   "execution_count": 3,
   "metadata": {},
   "outputs": [
    {
     "data": {
      "text/plain": [
       "[0, 1, 2, 3, 4, 5, 6, 7, 8, 9]"
      ]
     },
     "execution_count": 3,
     "metadata": {},
     "output_type": "execute_result"
    }
   ],
   "source": [
    "def quick_sort(arr: list, start: int, end: int) -> list:\n",
    "    if start >= end:\n",
    "        return\n",
    "    \n",
    "    pivot = start\n",
    "    left = start + 1\n",
    "    right = end\n",
    "    while left <= right:\n",
    "        while left <= end and arr[left] <= arr[pivot]:\n",
    "            left += 1\n",
    "        while right > start and arr[right] >= arr[pivot]:\n",
    "            right -= 1\n",
    "        if left > right:\n",
    "            arr[right], arr[pivot] = arr[pivot], arr[right]\n",
    "        else:\n",
    "            arr[right], arr[left] = arr[left], arr[right]\n",
    "    \n",
    "    quick_sort(arr, start, right - 1)\n",
    "    quick_sort(arr, right + 1, end)\n",
    "\n",
    "    return arr\n",
    "arr = [7, 5, 9, 0, 3, 1, 6, 2, 4, 8]\n",
    "quick_sort(arr, 0, len(arr)-1)"
   ]
  },
  {
   "cell_type": "code",
   "execution_count": 4,
   "metadata": {},
   "outputs": [
    {
     "data": {
      "text/plain": [
       "[0, 1, 2, 3, 4, 5, 6, 7, 8, 9]"
      ]
     },
     "execution_count": 4,
     "metadata": {},
     "output_type": "execute_result"
    }
   ],
   "source": [
    "def quick_sort(arr: list) -> list:\n",
    "    if len(arr) <= 1:\n",
    "        return arr\n",
    "    \n",
    "    pivot = arr[0]\n",
    "    tail = arr[1:]\n",
    "    left = [x for x in tail if x <= pivot]\n",
    "    right = [x for x in tail if x > pivot]\n",
    "\n",
    "    return quick_sort(left) + [pivot] + quick_sort(right)\n",
    "\n",
    "quick_sort([7, 5, 9, 0, 3, 1, 6, 2, 4, 8])"
   ]
  },
  {
   "cell_type": "markdown",
   "metadata": {},
   "source": [
    "### 6-4 개수 정렬"
   ]
  },
  {
   "cell_type": "code",
   "execution_count": 5,
   "metadata": {},
   "outputs": [
    {
     "data": {
      "text/plain": [
       "[0, 1, 2, 3, 4, 5, 6, 7, 8, 9]"
      ]
     },
     "execution_count": 5,
     "metadata": {},
     "output_type": "execute_result"
    }
   ],
   "source": [
    "def count_sort(arr: list) -> list:\n",
    "    count = [0] * (max(arr) + 1)\n",
    "    \n",
    "    for i in range(len(arr)):\n",
    "        count[arr[i]] += 1\n",
    "    res = []\n",
    "    for i in range(len(count)):\n",
    "        for j in range(count[i]):\n",
    "            res.append(i)\n",
    "    \n",
    "    return res\n",
    "count_sort([7, 5, 9, 0, 3, 1, 6, 2, 4, 8])"
   ]
  },
  {
   "cell_type": "markdown",
   "metadata": {},
   "source": [
    "### 6-5 위에서 아래로\n",
    "\n",
    "목표: 수열을 내림차순으로 정렬하는 프로그램 생성"
   ]
  },
  {
   "cell_type": "code",
   "execution_count": 6,
   "metadata": {},
   "outputs": [
    {
     "name": "stdout",
     "output_type": "stream",
     "text": [
      "[27, 15, 12, 3]\n",
      "[27, 15, 12, 3]\n"
     ]
    }
   ],
   "source": [
    "def solution(arr: list) -> list:\n",
    "    return sorted(arr, reverse=True)\n",
    "print(solution([3, 15, 27, 12]))\n",
    "\n",
    "def solution(arr: list) -> list:\n",
    "    for i in range(len(arr) - 1):\n",
    "        for j in range(i + 1, len(arr)):\n",
    "            if j > i:\n",
    "                arr[i], arr[j] = arr[j], arr[i]\n",
    "    return sorted(arr, reverse=True)\n",
    "print(solution([3, 15, 27, 12]))"
   ]
  },
  {
   "cell_type": "markdown",
   "metadata": {},
   "source": [
    "### 6-6 성적이 낮은 순서로 학생 출력하기\n",
    "\n",
    "목표: 낮은 성적의 학생부터 출력"
   ]
  },
  {
   "cell_type": "code",
   "execution_count": 7,
   "metadata": {},
   "outputs": [
    {
     "data": {
      "text/plain": [
       "['이순신', '홍길동']"
      ]
     },
     "execution_count": 7,
     "metadata": {},
     "output_type": "execute_result"
    }
   ],
   "source": [
    "def solution(arr: list) -> list:\n",
    "    arr = [elem.split() for elem in arr]\n",
    "    return [name for name, score in  sorted(arr, key=lambda x: int(x[1]))]\n",
    "\n",
    "solution([\"홍길동 95\", \"이순신 77\"])"
   ]
  },
  {
   "cell_type": "markdown",
   "metadata": {},
   "source": [
    "### 6-7 두 배열의 원소 교체\n",
    "\n",
    "목표: A와 B 배열의 원소를 최대 K번 바꿔 A의 총합이 최대가 되는 것."
   ]
  },
  {
   "cell_type": "code",
   "execution_count": 8,
   "metadata": {},
   "outputs": [
    {
     "data": {
      "text/plain": [
       "26"
      ]
     },
     "execution_count": 8,
     "metadata": {},
     "output_type": "execute_result"
    }
   ],
   "source": [
    "def solution(k: int, a: list, b: list) -> int:\n",
    "    a.sort()\n",
    "    b.sort(reverse=True)\n",
    "\n",
    "    for i in range(k):\n",
    "        if a[i] < b[i]:\n",
    "            a[i], b[i] = b[i], a[i]\n",
    "        else:\n",
    "            break\n",
    "    return sum(a)\n",
    "\n",
    "solution(3, [1, 2, 5, 4, 3], [5, 5, 6, 6, 5])"
   ]
  }
 ],
 "metadata": {
  "kernelspec": {
   "display_name": "study",
   "language": "python",
   "name": "python3"
  },
  "language_info": {
   "codemirror_mode": {
    "name": "ipython",
    "version": 3
   },
   "file_extension": ".py",
   "mimetype": "text/x-python",
   "name": "python",
   "nbconvert_exporter": "python",
   "pygments_lexer": "ipython3",
   "version": "3.9.19"
  }
 },
 "nbformat": 4,
 "nbformat_minor": 2
}
