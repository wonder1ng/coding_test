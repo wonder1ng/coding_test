{
 "cells": [
  {
   "cell_type": "markdown",
   "metadata": {},
   "source": [
    "# 나동빈 지음, 이것이 취업을 위한 코딩 테스트다 with 파이썬, 한빛미디어, 2020년\n",
    "\n",
    "|구분|코테 사이트|\n",
    "|-|-|\n",
    "|해외|[코드포스(Codeforces)](https://codeforces.com/)|\n",
    "||[탑코더(TopCoder)](https://www.topcoder.com/)|\n",
    "||[릿코드(LeetCode)](https://leetcode.com/)|\n",
    "||[코드셰프(CODECHEF)](https://www.codechef.com/)|\n",
    "|국내|[백준 온라인 저지(Baekjoon Online Judge)](https://www.acmicpc.net/)|\n",
    "||[코드업(COdeUP)](https://codeup.kr/)|\n",
    "||[프로그래머스(Programmers)](https://programmers.co.kr/)|\n",
    "||[SW Expert Academy](https://swexpertacademy.com/)|\n",
    "  \n",
    "<hr />\n",
    "\n",
    "|알고리즘 문제 풀이 사이트|\n",
    "|-|\n",
    "|[코드시그널](https://codesignal.com/)|\n",
    "|[코드포스](https://codeforces.com/)|\n",
    "|[정올](https://jungol.co.kr/)|"
   ]
  },
  {
   "cell_type": "markdown",
   "metadata": {},
   "source": [
    "## 08 다이나믹 프로그래밍\n",
    "- **Dynamic Programming(동적 계획법)**: 이전 계산 값을 저장 및 이용하여 값을 구하는 방법\n",
    "  - Top-Down(탑다운): 재귀함수 이용 방식. 큰 문제부터 작은 문제로 해결하는 방식\n",
    "  - Bottom-Up(바텀업): 반복문 이용 방식. 작은 문제부터 답 도출 방식"
   ]
  },
  {
   "cell_type": "markdown",
   "metadata": {},
   "source": [
    "### 8-1 피보나치 수열"
   ]
  },
  {
   "cell_type": "code",
   "execution_count": 16,
   "metadata": {},
   "outputs": [
    {
     "name": "stdout",
     "output_type": "stream",
     "text": [
      "pibo(6)\n",
      "pibo(5)\n",
      "pibo(4)\n",
      "pibo(3)\n",
      "pibo(2)\n",
      "pibo(1)\n",
      "pibo(2)\n",
      "pibo(3)\n",
      "pibo(4)\n",
      "8\n",
      "218922995834555169026\n"
     ]
    }
   ],
   "source": [
    "d = [0] * 100\n",
    "def fibo(x, progress=False):\n",
    "    if progress: print(f\"pibo({x})\")\n",
    "    if x == 1 or x == 2:\n",
    "        return 1\n",
    "    if d[x] != 0:\n",
    "        return d[x]\n",
    "    d[x] = fibo(x - 1, progress) + fibo(x - 2, progress)\n",
    "    return d[x]\n",
    "print(fibo(6, True))\n",
    "print(fibo(99))"
   ]
  },
  {
   "cell_type": "code",
   "execution_count": 17,
   "metadata": {},
   "outputs": [
    {
     "name": "stdout",
     "output_type": "stream",
     "text": [
      "218922995834555169026\n"
     ]
    }
   ],
   "source": [
    "d = [0] * 100\n",
    "d[1] = 1\n",
    "d[2] = 1\n",
    "n = 99\n",
    "\n",
    "for i in range(3, n + 1):\n",
    "    d[i] = d[i - 1] + d[i - 2]\n",
    "print(d[n])"
   ]
  },
  {
   "cell_type": "markdown",
   "metadata": {},
   "source": [
    "### 8-2 1로 만들기\n",
    "목표: X가 주어졌을 때 연산 4개로 1을 만드는 최소의 연산 사용 횟수\n",
    "\n",
    "조건:\n",
    "  - 연산1: 5로 나눠지면 5로 나눔\n",
    "  - 연산1: 3으로 나눠지면 3으로 나눔\n",
    "  - 연산1: 2로 나눠지면 2로 나눔\n",
    "  - 연산4: 1 빼기"
   ]
  },
  {
   "cell_type": "code",
   "execution_count": 32,
   "metadata": {},
   "outputs": [
    {
     "data": {
      "text/plain": [
       "3"
      ]
     },
     "execution_count": 32,
     "metadata": {},
     "output_type": "execute_result"
    }
   ],
   "source": [
    "def solution(x):\n",
    "    # d[index] = index값이 1이 되기 위해 연산 횟수\n",
    "    d = [0] * 30001 # dp 테이블\n",
    "    for i in range(2, x + 1):\n",
    "        # 최대값 = 이전 값에 + 1\n",
    "        d[i] = d[i - 1] + 1\n",
    "        for j in [2, 3, 5]:\n",
    "            if i % j == 0:\n",
    "                d[i] = min(d[i], d[i // j] + 1)\n",
    "    return d[x]\n",
    "solution(26)"
   ]
  },
  {
   "cell_type": "markdown",
   "metadata": {},
   "source": [
    "### 8-2 개미 전사\n",
    "목표: 얻을 수 있는 식량의 최댓값\n",
    "\n",
    "조건: 약탈한 식량창고와 붙어 있는 식량창고는 약탈할 수 없음"
   ]
  },
  {
   "cell_type": "code",
   "execution_count": null,
   "metadata": {},
   "outputs": [
    {
     "name": "stdout",
     "output_type": "stream",
     "text": [
      "8\n"
     ]
    },
    {
     "data": {
      "text/plain": [
       "150"
      ]
     },
     "execution_count": 63,
     "metadata": {},
     "output_type": "execute_result"
    }
   ],
   "source": [
    "# 피보나치 수열과 유사\n",
    "def solution(storages: list) -> int:\n",
    "    n = len(storages)\n",
    "    d = [0] * n\n",
    "    d[0] = storages[0]\n",
    "    d[1] = max(storages[0], storages[1])\n",
    "    for i in range(2, n):\n",
    "        d[i] = max(d[i - 1], d[i - 2] + storages[i])\n",
    "\n",
    "    return d[n - 1]\n",
    "\n",
    "print(solution([1, 3, 1, 5]))\n",
    "solution([18, 20, 18, 20, 14, 0, 100])"
   ]
  },
  {
   "cell_type": "markdown",
   "metadata": {},
   "source": [
    "### 8-4 바닥 공사\n",
    "\n",
    "목표: 가로 n, 세로 2인 바닥을 덮개로 채우는 모든 경우의 수를 796,796으로 나눈 나머지\n",
    "\n",
    "조건: 덮개 종류 = 1*2, 2*1, 2*2"
   ]
  },
  {
   "cell_type": "code",
   "execution_count": 82,
   "metadata": {},
   "outputs": [
    {
     "data": {
      "text/plain": [
       "5"
      ]
     },
     "execution_count": 82,
     "metadata": {},
     "output_type": "execute_result"
    }
   ],
   "source": [
    "def solution(n: int) -> int:\n",
    "    d = [0] * n\n",
    "    d[0] = 1    # 1*2를 채우는 방식 1개\n",
    "    d[1] = 3    # 2*2를 채우는 방식 3개\n",
    "    for i in range(2, n):\n",
    "        d[i] = (2 * d[i - 2] + d[i - 1]) % 796796\n",
    "        # d[i - 1]: `n - 1`에서 n으로 가는 방법은 1개뿐\n",
    "        # 2 * d[i - 2]: `n - 2`에서 n으로 가는 방법은 3개이지만 1방식은 위의 방식의 반복이기에 제외\n",
    "    return d[n - 1]\n",
    "\n",
    "solution(3)"
   ]
  },
  {
   "cell_type": "markdown",
   "metadata": {},
   "source": [
    "### 8-5 효율적인 화폐 구성성\n",
    "\n",
    "목표: m원을 만드는 최소한의 화폐 개수\n",
    "\n",
    "조건: 불가 시 -1 반환"
   ]
  },
  {
   "cell_type": "code",
   "execution_count": 121,
   "metadata": {},
   "outputs": [
    {
     "name": "stdout",
     "output_type": "stream",
     "text": [
      "5 4\n"
     ]
    }
   ],
   "source": [
    "def solution(m: int, coins: list) -> int:\n",
    "    d = [10001] * (m + 1)\n",
    "    d[0] = 0\n",
    "    for coin in coins:\n",
    "        for i in range(coin, m + 1):\n",
    "            if d[i - coin] != 10001:\n",
    "                d[i] = min(d[i], d[i - coin] + 1)\n",
    "\n",
    "    return -1 if d[m] == 10001 else d[m]\n",
    "\n",
    "print(\n",
    "solution(15, [2, 3]),\n",
    "solution(22, [3, 5, 7]))"
   ]
  }
 ],
 "metadata": {
  "kernelspec": {
   "display_name": "study",
   "language": "python",
   "name": "python3"
  },
  "language_info": {
   "codemirror_mode": {
    "name": "ipython",
    "version": 3
   },
   "file_extension": ".py",
   "mimetype": "text/x-python",
   "name": "python",
   "nbconvert_exporter": "python",
   "pygments_lexer": "ipython3",
   "version": "3.9.19"
  }
 },
 "nbformat": 4,
 "nbformat_minor": 2
}
