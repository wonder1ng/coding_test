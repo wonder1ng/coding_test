{
 "cells": [
  {
   "cell_type": "markdown",
   "metadata": {},
   "source": [
    "# [프로그래머스 Lv. 2 - 비밀 코드 해독](https://school.programmers.co.kr/learn/courses/30/lessons/388352)"
   ]
  },
  {
   "cell_type": "markdown",
   "metadata": {},
   "source": [
    "## 시도 -1\n",
    "- 의도\n",
    "  1. 각 시도의 가능한 모든 조합을 구함 => shape(5, n)\n",
    "  2. 리스트를 다시 조합 => shape(n, 5)\n",
    "  3. 각 원소를 집합으로 중복 제거 후 원소 길이가 5개인 것만 남김\n",
    "\n",
    "- 결과: 실패\n",
    "  1. product에서 꼬인 것 같은데 ans에 해당하지 않는 리스트를 반환\n",
    "  2. 결과 리스트를 검산하는 걸 코드를 추가하려다 너무 번거럽고 처음부터 전체 조합을 만들어서 시도하기로 함"
   ]
  },
  {
   "cell_type": "code",
   "execution_count": 1,
   "metadata": {},
   "outputs": [
    {
     "name": "stdout",
     "output_type": "stream",
     "text": [
      "{frozenset({3, 4, 7, 9, 10}), frozenset({3, 5, 7, 8, 9}), frozenset({3, 5, 7, 8, 10}), frozenset({3, 5, 7, 9, 10})}\n"
     ]
    },
    {
     "data": {
      "text/plain": [
       "4"
      ]
     },
     "execution_count": 1,
     "metadata": {},
     "output_type": "execute_result"
    }
   ],
   "source": [
    "from itertools import combinations, product\n",
    "\n",
    "def solution(n: int, q: list, ans: list) -> int:\n",
    "    answer = 0\n",
    "    res = set()\n",
    "\n",
    "    candidates = list(product(*list([candidate for candidate in combinations(iter, r)] for iter, r in zip(*(q, ans)))))\n",
    "\n",
    "    for candidate in candidates:\n",
    "        if len(set(j for i in candidate for j in i)) == 5:\n",
    "            res.add(frozenset(j for i in candidate for j in i))\n",
    "    print(res)\n",
    "    return len(res)\n",
    "\n",
    "\n",
    "solution(10, [[1, 2, 3, 4, 5], [6, 7, 8, 9, 10], [3, 7, 8, 9, 10], [2, 5, 7, 9, 10], [3, 4, 5, 6, 7]], ans=[2, 3, 4, 3, 3])"
   ]
  },
  {
   "cell_type": "markdown",
   "metadata": {},
   "source": [
    "## 시도 - 2\n",
    "- 의도\n",
    "  1. 주어진 조건에서 가능한 모든 조합 생성\n",
    "  2. q와 생성한 조합의 교집합이 ans개인지 확인 후 answer에 추가\n",
    "\n",
    "- 결과: 성공"
   ]
  },
  {
   "cell_type": "code",
   "execution_count": 2,
   "metadata": {},
   "outputs": [
    {
     "data": {
      "text/plain": [
       "3"
      ]
     },
     "execution_count": 2,
     "metadata": {},
     "output_type": "execute_result"
    }
   ],
   "source": [
    "from itertools import combinations\n",
    "\n",
    "def solution(n: int, q: list, ans: list) -> int:\n",
    "    answer = 0\n",
    "    q = [set(i) for i in q]\n",
    "    candidates = [set(i) for i in combinations([i for i in range(1, n + 1 )], 5)]\n",
    "    for candidate in candidates:\n",
    "        for target, r in zip(*[q, ans]):\n",
    "            if len(target & candidate) != r:\n",
    "                break\n",
    "        else:\n",
    "            answer += 1\n",
    "    \n",
    "    return answer\n",
    "\n",
    "\n",
    "\n",
    "solution(10, [[1, 2, 3, 4, 5], [6, 7, 8, 9, 10], [3, 7, 8, 9, 10], [2, 5, 7, 9, 10], [3, 4, 5, 6, 7]], ans=[2, 3, 4, 3, 3])"
   ]
  },
  {
   "cell_type": "markdown",
   "metadata": {},
   "source": [
    "## 배운 점\n",
    "파이썬 조합 구조와 조합 관련 함수 복습"
   ]
  },
  {
   "cell_type": "markdown",
   "metadata": {},
   "source": [
    "## 타인 풀이\n",
    "- 기본적으로 방향은 다 비슷해서 크게 참고할 것 없음\n",
    "- 간결한 코드가 인상 깊어 하나 갖고 옴"
   ]
  },
  {
   "cell_type": "code",
   "execution_count": 3,
   "metadata": {},
   "outputs": [],
   "source": [
    "# 닉넴임: altdmfk\n",
    "\n",
    "import itertools \n",
    "\n",
    "def solution(n, q, ans):\n",
    "    f = list(itertools.combinations(range(1, n + 1), 5))\n",
    "\n",
    "    for g, cnt in zip(q, ans):\n",
    "         f = [code for code in f if len(set(code) & set(g)) == cnt]\n",
    "\n",
    "    return len(f)"
   ]
  },
  {
   "cell_type": "markdown",
   "metadata": {},
   "source": [
    "### altdmfk\n",
    "- 느낀 점:\n",
    "  1. zip을 간만에 써서 불필요한 언팩을 사용한 것을 깨달음\n",
    "  2. set(code)와 set(g)를 반복문 안에 써서 매번 집합으로 변환해야 함. 나는 밖에서 set으로 선언 후 비교. 연산이 크게 필요한 코든 아니라서 뭐가 효율적인지 궁금"
   ]
  }
 ],
 "metadata": {
  "kernelspec": {
   "display_name": "study",
   "language": "python",
   "name": "python3"
  },
  "language_info": {
   "codemirror_mode": {
    "name": "ipython",
    "version": 3
   },
   "file_extension": ".py",
   "mimetype": "text/x-python",
   "name": "python",
   "nbconvert_exporter": "python",
   "pygments_lexer": "ipython3",
   "version": "3.9.19"
  }
 },
 "nbformat": 4,
 "nbformat_minor": 2
}
