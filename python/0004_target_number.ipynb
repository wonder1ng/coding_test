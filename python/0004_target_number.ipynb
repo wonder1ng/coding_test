{
 "cells": [
  {
   "cell_type": "markdown",
   "metadata": {},
   "source": [
    "# [프로그래머스 Lv. 2 - 타겟 넘버](https://school.programmers.co.kr/learn/courses/30/lessons/43165?language=python3)"
   ]
  },
  {
   "cell_type": "markdown",
   "metadata": {},
   "source": [
    "## 배운 점\n",
    "- 메모이제이션. 딕셔너리는 대단한 자료형!"
   ]
  },
  {
   "cell_type": "markdown",
   "metadata": {},
   "source": [
    "## 시도 - 1\n",
    "- 의도\n",
    "  1. 모든 경우의 수 중 target이 나온 개수\n",
    "\n",
    "- 결과: 성공"
   ]
  },
  {
   "cell_type": "code",
   "execution_count": 1,
   "metadata": {},
   "outputs": [],
   "source": [
    "from itertools import product\n",
    "\n",
    "def solution(numbers, target):\n",
    "    count = 0\n",
    "    for nums in list(product(*[[num, -num] for num in numbers])):\n",
    "        if sum(nums) == target: count += 1\n",
    "\n",
    "    return count"
   ]
  },
  {
   "cell_type": "code",
   "execution_count": 2,
   "metadata": {},
   "outputs": [],
   "source": [
    "# 타인 풀이 보고 개선한 코드\n",
    "from itertools import product\n",
    "\n",
    "def solution(numbers, target):\n",
    "    return list(map(sum, product(*[[num, -num] for num in numbers]))).count(target)"
   ]
  },
  {
   "cell_type": "markdown",
   "metadata": {},
   "source": [
    "## 타인 풀이\n",
    "- target에 가장 앞의 값을 더한 값과 뺀 값을 재귀 함수 호출"
   ]
  },
  {
   "cell_type": "code",
   "execution_count": 3,
   "metadata": {},
   "outputs": [],
   "source": [
    "def solution(numbers, target):\n",
    "    if not numbers and target == 0 :\n",
    "        return 1\n",
    "    elif not numbers:\n",
    "        return 0\n",
    "    else:\n",
    "        return solution(numbers[1:], target-numbers[0]) + solution(numbers[1:], target+numbers[0])"
   ]
  },
  {
   "cell_type": "code",
   "execution_count": 4,
   "metadata": {},
   "outputs": [],
   "source": [
    "# ChatGPT가 개선해준 코드\n",
    "def solution(numbers, target, index=0): \n",
    "    if index == len(numbers) and target == 0:\n",
    "        return 1\n",
    "    elif index == len(numbers):\n",
    "        return 0\n",
    "    else:\n",
    "        return solution(numbers, target - numbers[index], index + 1) + solution(numbers, target + numbers[index], index + 1)"
   ]
  },
  {
   "cell_type": "markdown",
   "metadata": {},
   "source": [
    "## ChatGPT 풀이\n",
    "\n",
    "인덱스 별 결과와 경우의 수를 딕셔너리에 저장.\n",
    "\n",
    "딕셔너리에 결과에 count를 합산함으로써 동일 인덱스, 동일 값일 경우 중복 연산을 제거함"
   ]
  },
  {
   "cell_type": "code",
   "execution_count": 5,
   "metadata": {},
   "outputs": [],
   "source": [
    "def solution(numbers, target):\n",
    "    # dp[i]는 sum을 만들 수 있는 경우의 수를 기록\n",
    "    dp = {0: 1}  # 초기값: current_sum = 0, count = 1(현 인덱스까지 계산했을 때 current_sum에 도달할 수 있는 방법의 개수)\n",
    "\n",
    "    for num in numbers:\n",
    "        # 현재 dp 상태를 복사해서 새로운 dp 상태를 계산\n",
    "        next_dp = {}\n",
    "        for current_sum, count in dp.items():\n",
    "            # 현재 숫자를 더한 경우\n",
    "            next_dp[current_sum + num] = next_dp.get(current_sum + num, 0) + count\n",
    "            # 현재 숫자를 뺀 경우\n",
    "            next_dp[current_sum - num] = next_dp.get(current_sum - num, 0) + count\n",
    "        dp = next_dp  # dp를 갱신\n",
    "        print(dp.__str__())\n",
    "\n",
    "    # target을 만들 수 있는 방법의 수를 반환\n",
    "    return dp.get(target, 0)"
   ]
  }
 ],
 "metadata": {
  "kernelspec": {
   "display_name": "study",
   "language": "python",
   "name": "python3"
  },
  "language_info": {
   "codemirror_mode": {
    "name": "ipython",
    "version": 3
   },
   "file_extension": ".py",
   "mimetype": "text/x-python",
   "name": "python",
   "nbconvert_exporter": "python",
   "pygments_lexer": "ipython3",
   "version": "3.9.19"
  }
 },
 "nbformat": 4,
 "nbformat_minor": 2
}
