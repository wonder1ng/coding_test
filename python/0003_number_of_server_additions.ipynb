{
 "cells": [
  {
   "cell_type": "markdown",
   "metadata": {},
   "source": [
    "# [프로그래머스 Lv. 2 - 서버 증설 횟수](https://school.programmers.co.kr/learn/courses/30/lessons/389479)"
   ]
  },
  {
   "cell_type": "markdown",
   "metadata": {},
   "source": [
    "## 시도 -1\n",
    "- 의도\n",
    "  1. 서버 증설 횟수를 리스트에 기록\n",
    "  2. -k로 인덱싱하여 현재 허용 인원 계산\n",
    "\n",
    "- 결과: 성공\n",
    "  1. 인덱싱을 위해 계산 시 `(history + [1])[-k:]`로 인덱싱\n",
    "  2. 집중을 못 해서인지 새로운 값을 계속 앞에 추가하여 실패하고 있었음\n",
    "  3. 메모리 효율을 위해선 history를 인덱싱하여 재할당할 수 있음"
   ]
  },
  {
   "cell_type": "code",
   "execution_count": 1,
   "metadata": {},
   "outputs": [],
   "source": [
    "def solution(players, m, k):\n",
    "    history = []\n",
    "    \n",
    "    for player in players:\n",
    "        total = sum((history + [1])[-k:]) * m\n",
    "\n",
    "        if total > player:\n",
    "            history = history + [0]\n",
    "        else:\n",
    "            add = (player - total) // m + 1\n",
    "            history += [add]\n",
    "\n",
    "    return sum(history)\n",
    "\n",
    "\n",
    "# 아래는 제출 코드인데 불요한 코드도 있고 변수명이 직관적이지 않아 위로 수정\n",
    "def solution(players, m, k):\n",
    "    answer = 0\n",
    "    added = [0] * k\n",
    "    for player in players:\n",
    "        total = sum((added + [1])[-k:]) * m\n",
    "\n",
    "        if total > player:\n",
    "            added = added + [0]\n",
    "        else:\n",
    "            add = (player - total) // m + 1\n",
    "            answer += add\n",
    "            added = added + [add]\n",
    "\n",
    "    return answer"
   ]
  },
  {
   "cell_type": "markdown",
   "metadata": {},
   "source": [
    "## 배운 점\n",
    "작성한 코드를 처음부터 다시 볼 수 있어야 함."
   ]
  },
  {
   "cell_type": "markdown",
   "metadata": {},
   "source": [
    "## 타인 풀이\n",
    "- deque를 사용한 코드가 많은데 사용할 경우의 장점을 모르겠음"
   ]
  }
 ],
 "metadata": {
  "kernelspec": {
   "display_name": "study",
   "language": "python",
   "name": "python3"
  },
  "language_info": {
   "codemirror_mode": {
    "name": "ipython",
    "version": 3
   },
   "file_extension": ".py",
   "mimetype": "text/x-python",
   "name": "python",
   "nbconvert_exporter": "python",
   "pygments_lexer": "ipython3",
   "version": "3.9.19"
  }
 },
 "nbformat": 4,
 "nbformat_minor": 2
}
